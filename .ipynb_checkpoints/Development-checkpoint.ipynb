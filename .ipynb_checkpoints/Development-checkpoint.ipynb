{
 "cells": [
  {
   "cell_type": "markdown",
   "metadata": {},
   "source": [
    "# Developing an API Wrapper for Spanish Electricity Market Data\n",
    "\n",
    "<br>\n",
    "\n",
    "### Imports"
   ]
  },
  {
   "cell_type": "code",
   "execution_count": 1,
   "metadata": {},
   "outputs": [],
   "source": [
    "import pandas as pd\n",
    "import numpy as np\n",
    "\n",
    "import matplotlib.pyplot as plt\n",
    "import seaborn as sns\n",
    "\n",
    "import requests\n",
    "from bs4 import BeautifulSoup\n",
    "\n",
    "import inspect\n",
    "import warnings\n",
    "import operator\n",
    "import itertools\n",
    "from functools import reduce"
   ]
  },
  {
   "cell_type": "markdown",
   "metadata": {},
   "source": [
    "<br>\n",
    "\n",
    "### Retrieving API Documentation\n",
    "\n",
    "We can check out details on the API through direct scraping of its documentation webpage"
   ]
  },
  {
   "cell_type": "code",
   "execution_count": 3,
   "metadata": {},
   "outputs": [
    {
     "data": {
      "text/plain": [
       "<Response [200]>"
      ]
     },
     "execution_count": 3,
     "metadata": {},
     "output_type": "execute_result"
    }
   ],
   "source": [
    "RED_documentation_url = 'https://www.ree.es/en/apidatos'\n",
    "\n",
    "r = requests.get(RED_documentation_url)\n",
    "\n",
    "r"
   ]
  },
  {
   "cell_type": "markdown",
   "metadata": {},
   "source": [
    "<br>\n",
    "\n",
    "The majority of the useful information is contained within tables in the HTML which we'll extract"
   ]
  },
  {
   "cell_type": "code",
   "execution_count": 4,
   "metadata": {},
   "outputs": [
    {
     "data": {
      "text/plain": [
       "8"
      ]
     },
     "execution_count": 4,
     "metadata": {},
     "output_type": "execute_result"
    }
   ],
   "source": [
    "documentation_tables = pd.read_html(r.content)\n",
    "\n",
    "len(documentation_tables)"
   ]
  },
  {
   "cell_type": "markdown",
   "metadata": {},
   "source": [
    "<br>\n",
    "\n",
    "The first table we'll look into contains the combinations of categories and widgets that can be queried "
   ]
  },
  {
   "cell_type": "code",
   "execution_count": 5,
   "metadata": {},
   "outputs": [
    {
     "data": {
      "text/plain": [
       "[['balance', 'balance-electrico'],\n",
       " ['demanda', 'evolucion'],\n",
       " ['demanda', 'variacion-componentes'],\n",
       " ['demanda', 'variacion-componentes-movil'],\n",
       " ['demanda', 'ire-general']]"
      ]
     },
     "execution_count": 5,
     "metadata": {},
     "output_type": "execute_result"
    }
   ],
   "source": [
    "df_category_widgets = (documentation_tables\n",
    "                       [4]\n",
    "                       .drop(columns='lang')\n",
    "                       .dropna(how='all')\n",
    "                       .ffill()\n",
    "                       .reset_index(drop=True)\n",
    "                      )\n",
    "\n",
    "category_widget_combos = df_category_widgets.apply(lambda s: tuple(s.tolist()), axis=1).tolist()\n",
    "\n",
    "category_widget_combos[:5]"
   ]
  },
  {
   "cell_type": "markdown",
   "metadata": {},
   "source": [
    "<br>\n",
    "\n",
    "We can also extract information about what parameters are allowed and which must be specified"
   ]
  },
  {
   "cell_type": "code",
   "execution_count": 14,
   "metadata": {},
   "outputs": [
    {
     "name": "stdout",
     "output_type": "stream",
     "text": [
      "Required parameters: start_date, end_date, time_trunc\n",
      "Optional parameters: geo_trunc, geo_limit, geo_ids\n"
     ]
    }
   ],
   "source": [
    "df_params = documentation_tables[5]\n",
    "\n",
    "s_optional_params = df_params['Description'].str.contains('(Optional)')\n",
    "\n",
    "required_params = df_params.loc[~s_optional_params, 'Param'].tolist()\n",
    "optional_params = df_params.loc[s_optional_params, 'Param'].tolist()\n",
    "\n",
    "print(f\"Required parameters: {', '.join(required_params)}\")\n",
    "print(f\"Optional parameters: {', '.join(optional_params)}\")"
   ]
  },
  {
   "cell_type": "markdown",
   "metadata": {},
   "source": [
    "<br>\n",
    "\n",
    "### Making an API Call\n",
    "\n",
    "To call the API we must know the relevant URL endpoint, this function constructs the URL for a given category and widget"
   ]
  },
  {
   "cell_type": "code",
   "execution_count": 7,
   "metadata": {},
   "outputs": [
    {
     "data": {
      "text/plain": [
       "'https://apidatos.ree.es/en/datos/balance/balance-electrico'"
      ]
     },
     "execution_count": 7,
     "metadata": {},
     "output_type": "execute_result"
    }
   ],
   "source": [
    "def construct_url(category, widget):\n",
    "    assert [category, widget] in category_widget_combos, f'The widget \\'{widget}\\' is not allowed for category \\'{category}\\''\n",
    "\n",
    "    API_stream_url = f'https://apidatos.ree.es/en/datos/{category}/{widget}'\n",
    "    \n",
    "    return API_stream_url\n",
    "    \n",
    "category = 'balance'\n",
    "widget = 'balance-electrico'\n",
    "\n",
    "API_stream_url = construct_url(category, widget)\n",
    "\n",
    "API_stream_url"
   ]
  },
  {
   "cell_type": "markdown",
   "metadata": {},
   "source": [
    "<br>\n",
    "\n",
    "Before we make our first successful call we want to prepare for how to handle errors in the request. When an error occurs the response includes a breakdown of the reasons why as a json, we can use this to generate custom Python errors.\n",
    "\n",
    "\n",
    "Example Error JSON:\n",
    "```javascript\n",
    "{\n",
    "    'errors': [\n",
    "        {'code': XXX,\n",
    "         'status' YYY,\n",
    "         'title': 'ERROR TITLE',\n",
    "         'detail': 'DETAILED ERROR'\n",
    "        }\n",
    "    ]\n",
    "}\n",
    "```"
   ]
  },
  {
   "cell_type": "code",
   "execution_count": 8,
   "metadata": {},
   "outputs": [
    {
     "ename": "ValueError",
     "evalue": "Widget bad request\nBad request. The specified date format is not valid.\n",
     "output_type": "error",
     "traceback": [
      "\u001b[1;31m---------------------------------------------------------------------------\u001b[0m",
      "\u001b[1;31mValueError\u001b[0m                                Traceback (most recent call last)",
      "\u001b[1;32m<ipython-input-8-c12c5ab3079d>\u001b[0m in \u001b[0;36m<module>\u001b[1;34m\u001b[0m\n\u001b[0;32m     16\u001b[0m \u001b[0mr_json\u001b[0m \u001b[1;33m=\u001b[0m \u001b[0mr\u001b[0m\u001b[1;33m.\u001b[0m\u001b[0mjson\u001b[0m\u001b[1;33m(\u001b[0m\u001b[1;33m)\u001b[0m\u001b[1;33m\u001b[0m\u001b[1;33m\u001b[0m\u001b[0m\n\u001b[0;32m     17\u001b[0m \u001b[1;33m\u001b[0m\u001b[0m\n\u001b[1;32m---> 18\u001b[1;33m \u001b[0mcheck_errs\u001b[0m\u001b[1;33m(\u001b[0m\u001b[0mr_json\u001b[0m\u001b[1;33m)\u001b[0m\u001b[1;33m\u001b[0m\u001b[1;33m\u001b[0m\u001b[0m\n\u001b[0m",
      "\u001b[1;32m<ipython-input-8-c12c5ab3079d>\u001b[0m in \u001b[0;36mcheck_errs\u001b[1;34m(r_json)\u001b[0m\n\u001b[0;32m      5\u001b[0m             \u001b[0merr_detail\u001b[0m \u001b[1;33m=\u001b[0m \u001b[0merr\u001b[0m\u001b[1;33m[\u001b[0m\u001b[1;34m'detail'\u001b[0m\u001b[1;33m]\u001b[0m\u001b[1;33m\u001b[0m\u001b[1;33m\u001b[0m\u001b[0m\n\u001b[0;32m      6\u001b[0m \u001b[1;33m\u001b[0m\u001b[0m\n\u001b[1;32m----> 7\u001b[1;33m             \u001b[1;32mraise\u001b[0m \u001b[0mValueError\u001b[0m\u001b[1;33m(\u001b[0m\u001b[1;34mf'{err_title}\\n{err_detail}\\n'\u001b[0m\u001b[1;33m)\u001b[0m\u001b[1;33m\u001b[0m\u001b[1;33m\u001b[0m\u001b[0m\n\u001b[0m\u001b[0;32m      8\u001b[0m \u001b[1;33m\u001b[0m\u001b[0m\n\u001b[0;32m      9\u001b[0m params = {\n",
      "\u001b[1;31mValueError\u001b[0m: Widget bad request\nBad request. The specified date format is not valid.\n"
     ]
    }
   ],
   "source": [
    "def check_errs(r_json):\n",
    "    if 'errors' in r_json.keys():\n",
    "        for err in r_json['errors']:\n",
    "            err_title = err['title']\n",
    "            err_detail = err['detail']\n",
    "\n",
    "            raise ValueError(f'{err_title}\\n{err_detail}\\n')\n",
    " \n",
    "params = {\n",
    "    'start_date' : '2019-01-01T00:00',\n",
    "    'end_date' : '%£^£$&%£$%&$&', # <- Invalid date\n",
    "    'time_trunc' : 'day'\n",
    "}\n",
    "\n",
    "r = requests.get(API_stream_url, params=params)\n",
    "r_json = r.json()\n",
    "\n",
    "check_errs(r_json)"
   ]
  },
  {
   "cell_type": "markdown",
   "metadata": {},
   "source": [
    "<br>\n",
    "\n",
    "Now we're ready to carry out a successful request"
   ]
  },
  {
   "cell_type": "code",
   "execution_count": 9,
   "metadata": {},
   "outputs": [
    {
     "data": {
      "text/plain": [
       "<Response [200]>"
      ]
     },
     "execution_count": 9,
     "metadata": {},
     "output_type": "execute_result"
    }
   ],
   "source": [
    "params = {\n",
    "    'start_date' : '2019-12-01T00:00',\n",
    "    'end_date' : '2019-12-31T22:00',\n",
    "    'time_trunc' : 'day',\n",
    "}\n",
    "\n",
    "r = requests.get(API_stream_url, params=params)\n",
    "r_json = r.json()\n",
    "\n",
    "check_errs(r_json)\n",
    "           \n",
    "r"
   ]
  },
  {
   "cell_type": "markdown",
   "metadata": {},
   "source": [
    "<br>\n",
    "\n",
    "As we know that there are only 6 possible inputs, 3 of which are optional, we can wrap the request into a function which will only accept the allowable paramaters"
   ]
  },
  {
   "cell_type": "code",
   "execution_count": 10,
   "metadata": {},
   "outputs": [
    {
     "data": {
      "text/plain": [
       "<Response [200]>"
      ]
     },
     "execution_count": 10,
     "metadata": {},
     "output_type": "execute_result"
    }
   ],
   "source": [
    "def request_REData(API_stream_url, start_date, end_date, time_trunc, geo_trunc=None, geo_limit=None, geo_ids=None):\n",
    "    *_, params = inspect.getargvalues(inspect.currentframe())\n",
    "    params.pop('API_stream_url')\n",
    "    \n",
    "    r = requests.get(API_stream_url, params=params)\n",
    "    \n",
    "    return r\n",
    "\n",
    "start_date = '2019-01-01T00:00'\n",
    "end_date = '2019-01-12T00:00'\n",
    "time_trunc = 'day'\n",
    "\n",
    "r = request_REData(API_stream_url, start_date, end_date, time_trunc)\n",
    "\n",
    "r"
   ]
  },
  {
   "cell_type": "markdown",
   "metadata": {},
   "source": [
    "<br>\n",
    "\n",
    "The JSON response contains a series of nested lists and dictionaries, with each data stream using a different hierarchy. Here we develop several functions which enable us to specify the response data hierarchy and then automatically extract the data"
   ]
  },
  {
   "cell_type": "code",
   "execution_count": 12,
   "metadata": {},
   "outputs": [
    {
     "data": {
      "text/html": [
       "<div>\n",
       "<style scoped>\n",
       "    .dataframe tbody tr th:only-of-type {\n",
       "        vertical-align: middle;\n",
       "    }\n",
       "\n",
       "    .dataframe tbody tr th {\n",
       "        vertical-align: top;\n",
       "    }\n",
       "\n",
       "    .dataframe thead th {\n",
       "        text-align: right;\n",
       "    }\n",
       "</style>\n",
       "<table border=\"1\" class=\"dataframe\">\n",
       "  <thead>\n",
       "    <tr style=\"text-align: right;\">\n",
       "      <th></th>\n",
       "      <th>Hydro</th>\n",
       "      <th>Wind</th>\n",
       "      <th>Solar photovoltaic</th>\n",
       "      <th>Thermal solar</th>\n",
       "      <th>Hydroeolian</th>\n",
       "      <th>Other renewables</th>\n",
       "      <th>Renewable waste</th>\n",
       "      <th>Renewable generation</th>\n",
       "      <th>Pumped storage</th>\n",
       "      <th>Nuclear</th>\n",
       "      <th>Combined cycle</th>\n",
       "      <th>Coal</th>\n",
       "      <th>Fuel + Gas</th>\n",
       "      <th>Cogeneration</th>\n",
       "      <th>Non-renewable waste</th>\n",
       "      <th>Non-renewable generation</th>\n",
       "      <th>Pumped storage consumption</th>\n",
       "      <th>Cross-border exchange balance</th>\n",
       "      <th>Demand at busbars</th>\n",
       "    </tr>\n",
       "    <tr>\n",
       "      <th>datetime</th>\n",
       "      <th></th>\n",
       "      <th></th>\n",
       "      <th></th>\n",
       "      <th></th>\n",
       "      <th></th>\n",
       "      <th></th>\n",
       "      <th></th>\n",
       "      <th></th>\n",
       "      <th></th>\n",
       "      <th></th>\n",
       "      <th></th>\n",
       "      <th></th>\n",
       "      <th></th>\n",
       "      <th></th>\n",
       "      <th></th>\n",
       "      <th></th>\n",
       "      <th></th>\n",
       "      <th></th>\n",
       "      <th></th>\n",
       "    </tr>\n",
       "  </thead>\n",
       "  <tbody>\n",
       "    <tr>\n",
       "      <th>2019-12-01 00:00:00+01:00</th>\n",
       "      <td>120104.193</td>\n",
       "      <td>126435.606</td>\n",
       "      <td>14475.754</td>\n",
       "      <td>429.228</td>\n",
       "      <td>70.019</td>\n",
       "      <td>10016.002</td>\n",
       "      <td>2649.3700</td>\n",
       "      <td>274180.1720</td>\n",
       "      <td>3373.449</td>\n",
       "      <td>119933.386</td>\n",
       "      <td>87551.124</td>\n",
       "      <td>21867.688</td>\n",
       "      <td>12917.246</td>\n",
       "      <td>80942.235</td>\n",
       "      <td>6216.7170</td>\n",
       "      <td>332801.8450</td>\n",
       "      <td>-14267.460</td>\n",
       "      <td>50127.573</td>\n",
       "      <td>642842.130</td>\n",
       "    </tr>\n",
       "    <tr>\n",
       "      <th>2019-12-02 00:00:00+01:00</th>\n",
       "      <td>122514.569</td>\n",
       "      <td>259768.850</td>\n",
       "      <td>10612.065</td>\n",
       "      <td>93.214</td>\n",
       "      <td>19.481</td>\n",
       "      <td>10072.368</td>\n",
       "      <td>2512.8660</td>\n",
       "      <td>405593.4130</td>\n",
       "      <td>1908.073</td>\n",
       "      <td>120148.011</td>\n",
       "      <td>112448.815</td>\n",
       "      <td>26235.162</td>\n",
       "      <td>14937.162</td>\n",
       "      <td>86272.138</td>\n",
       "      <td>6005.1380</td>\n",
       "      <td>367954.4990</td>\n",
       "      <td>-15561.393</td>\n",
       "      <td>16387.389</td>\n",
       "      <td>774373.908</td>\n",
       "    </tr>\n",
       "    <tr>\n",
       "      <th>2019-12-03 00:00:00+01:00</th>\n",
       "      <td>140251.440</td>\n",
       "      <td>173079.395</td>\n",
       "      <td>12273.298</td>\n",
       "      <td>2653.323</td>\n",
       "      <td>22.759</td>\n",
       "      <td>10475.666</td>\n",
       "      <td>2565.6640</td>\n",
       "      <td>341321.5450</td>\n",
       "      <td>4553.856</td>\n",
       "      <td>119887.867</td>\n",
       "      <td>177406.558</td>\n",
       "      <td>33146.230</td>\n",
       "      <td>14553.509</td>\n",
       "      <td>87379.346</td>\n",
       "      <td>6196.4850</td>\n",
       "      <td>443123.8510</td>\n",
       "      <td>-10337.100</td>\n",
       "      <td>17782.005</td>\n",
       "      <td>791890.301</td>\n",
       "    </tr>\n",
       "    <tr>\n",
       "      <th>2019-12-04 00:00:00+01:00</th>\n",
       "      <td>154164.616</td>\n",
       "      <td>136431.819</td>\n",
       "      <td>10167.247</td>\n",
       "      <td>1284.706</td>\n",
       "      <td>15.541</td>\n",
       "      <td>10102.013</td>\n",
       "      <td>2575.3995</td>\n",
       "      <td>314741.3415</td>\n",
       "      <td>15061.598</td>\n",
       "      <td>119729.413</td>\n",
       "      <td>191192.966</td>\n",
       "      <td>33250.292</td>\n",
       "      <td>16412.726</td>\n",
       "      <td>88754.968</td>\n",
       "      <td>5928.2735</td>\n",
       "      <td>470330.2365</td>\n",
       "      <td>-2927.344</td>\n",
       "      <td>18779.894</td>\n",
       "      <td>800924.128</td>\n",
       "    </tr>\n",
       "    <tr>\n",
       "      <th>2019-12-05 00:00:00+01:00</th>\n",
       "      <td>153524.202</td>\n",
       "      <td>172168.532</td>\n",
       "      <td>16263.474</td>\n",
       "      <td>3125.410</td>\n",
       "      <td>75.240</td>\n",
       "      <td>10161.825</td>\n",
       "      <td>2481.3020</td>\n",
       "      <td>357799.9850</td>\n",
       "      <td>1581.091</td>\n",
       "      <td>119673.028</td>\n",
       "      <td>159638.642</td>\n",
       "      <td>35817.954</td>\n",
       "      <td>14980.212</td>\n",
       "      <td>87528.450</td>\n",
       "      <td>5879.6610</td>\n",
       "      <td>425099.0380</td>\n",
       "      <td>-2477.430</td>\n",
       "      <td>14488.877</td>\n",
       "      <td>794910.470</td>\n",
       "    </tr>\n",
       "  </tbody>\n",
       "</table>\n",
       "</div>"
      ],
      "text/plain": [
       "                                Hydro        Wind  Solar photovoltaic  \\\n",
       "datetime                                                                \n",
       "2019-12-01 00:00:00+01:00  120104.193  126435.606           14475.754   \n",
       "2019-12-02 00:00:00+01:00  122514.569  259768.850           10612.065   \n",
       "2019-12-03 00:00:00+01:00  140251.440  173079.395           12273.298   \n",
       "2019-12-04 00:00:00+01:00  154164.616  136431.819           10167.247   \n",
       "2019-12-05 00:00:00+01:00  153524.202  172168.532           16263.474   \n",
       "\n",
       "                           Thermal solar  Hydroeolian  Other renewables  \\\n",
       "datetime                                                                  \n",
       "2019-12-01 00:00:00+01:00        429.228       70.019         10016.002   \n",
       "2019-12-02 00:00:00+01:00         93.214       19.481         10072.368   \n",
       "2019-12-03 00:00:00+01:00       2653.323       22.759         10475.666   \n",
       "2019-12-04 00:00:00+01:00       1284.706       15.541         10102.013   \n",
       "2019-12-05 00:00:00+01:00       3125.410       75.240         10161.825   \n",
       "\n",
       "                           Renewable waste  Renewable generation  \\\n",
       "datetime                                                           \n",
       "2019-12-01 00:00:00+01:00        2649.3700           274180.1720   \n",
       "2019-12-02 00:00:00+01:00        2512.8660           405593.4130   \n",
       "2019-12-03 00:00:00+01:00        2565.6640           341321.5450   \n",
       "2019-12-04 00:00:00+01:00        2575.3995           314741.3415   \n",
       "2019-12-05 00:00:00+01:00        2481.3020           357799.9850   \n",
       "\n",
       "                           Pumped storage     Nuclear  Combined cycle  \\\n",
       "datetime                                                                \n",
       "2019-12-01 00:00:00+01:00        3373.449  119933.386       87551.124   \n",
       "2019-12-02 00:00:00+01:00        1908.073  120148.011      112448.815   \n",
       "2019-12-03 00:00:00+01:00        4553.856  119887.867      177406.558   \n",
       "2019-12-04 00:00:00+01:00       15061.598  119729.413      191192.966   \n",
       "2019-12-05 00:00:00+01:00        1581.091  119673.028      159638.642   \n",
       "\n",
       "                                Coal  Fuel + Gas  Cogeneration  \\\n",
       "datetime                                                         \n",
       "2019-12-01 00:00:00+01:00  21867.688   12917.246     80942.235   \n",
       "2019-12-02 00:00:00+01:00  26235.162   14937.162     86272.138   \n",
       "2019-12-03 00:00:00+01:00  33146.230   14553.509     87379.346   \n",
       "2019-12-04 00:00:00+01:00  33250.292   16412.726     88754.968   \n",
       "2019-12-05 00:00:00+01:00  35817.954   14980.212     87528.450   \n",
       "\n",
       "                           Non-renewable waste  Non-renewable generation  \\\n",
       "datetime                                                                   \n",
       "2019-12-01 00:00:00+01:00            6216.7170               332801.8450   \n",
       "2019-12-02 00:00:00+01:00            6005.1380               367954.4990   \n",
       "2019-12-03 00:00:00+01:00            6196.4850               443123.8510   \n",
       "2019-12-04 00:00:00+01:00            5928.2735               470330.2365   \n",
       "2019-12-05 00:00:00+01:00            5879.6610               425099.0380   \n",
       "\n",
       "                           Pumped storage consumption  \\\n",
       "datetime                                                \n",
       "2019-12-01 00:00:00+01:00                  -14267.460   \n",
       "2019-12-02 00:00:00+01:00                  -15561.393   \n",
       "2019-12-03 00:00:00+01:00                  -10337.100   \n",
       "2019-12-04 00:00:00+01:00                   -2927.344   \n",
       "2019-12-05 00:00:00+01:00                   -2477.430   \n",
       "\n",
       "                           Cross-border exchange balance  Demand at busbars  \n",
       "datetime                                                                     \n",
       "2019-12-01 00:00:00+01:00                      50127.573         642842.130  \n",
       "2019-12-02 00:00:00+01:00                      16387.389         774373.908  \n",
       "2019-12-03 00:00:00+01:00                      17782.005         791890.301  \n",
       "2019-12-04 00:00:00+01:00                      18779.894         800924.128  \n",
       "2019-12-05 00:00:00+01:00                      14488.877         794910.470  "
      ]
     },
     "execution_count": 12,
     "metadata": {},
     "output_type": "execute_result"
    }
   ],
   "source": [
    "col_2_s = lambda col: pd.DataFrame(col['attributes']['values']).set_index('datetime')['value']\n",
    "\n",
    "def get_from_dict(data_dict, map_list):\n",
    "    return reduce(operator.getitem, map_list, data_dict)\n",
    "\n",
    "def json_2_nested_lists(obj_in, route):\n",
    "    if len(route) == 0:\n",
    "        yield obj_in\n",
    "        \n",
    "    elif isinstance(obj_in, list):\n",
    "        for item in obj_in:\n",
    "            obj_out = json_2_nested_lists(item, route)\n",
    "            yield from obj_out\n",
    "            \n",
    "    else:\n",
    "        obj_out = get_from_dict(obj_in, route[0])\n",
    "        yield from json_2_nested_lists(obj_out, route[1:])\n",
    "\n",
    "def json_2_df(r_json, JSON_route):\n",
    "    nested_lists = json_2_nested_lists(r_json, JSON_route)\n",
    "    cols_flatlist = list(itertools.chain(*nested_lists))\n",
    "\n",
    "    df = pd.DataFrame()\n",
    "\n",
    "    for col in cols_flatlist:\n",
    "        s_data = col_2_s(col)\n",
    "        s_data.name = col['type']\n",
    "\n",
    "        df[s_data.name] = s_data\n",
    "\n",
    "    df.index = pd.to_datetime(df.index)\n",
    "    \n",
    "    return df\n",
    "\n",
    "JSON_route = [\n",
    "    ['included'],\n",
    "    ['attributes', 'content'],\n",
    "]\n",
    "   \n",
    "df = json_2_df(r_json, JSON_route)\n",
    "\n",
    "df.head()"
   ]
  },
  {
   "cell_type": "markdown",
   "metadata": {},
   "source": [
    "<br>\n",
    "\n",
    "The generalisability of the functions enables other category/widget combinations to easily be explored as long as the data hierarchy is known"
   ]
  },
  {
   "cell_type": "code",
   "execution_count": 13,
   "metadata": {},
   "outputs": [
    {
     "data": {
      "text/html": [
       "<div>\n",
       "<style scoped>\n",
       "    .dataframe tbody tr th:only-of-type {\n",
       "        vertical-align: middle;\n",
       "    }\n",
       "\n",
       "    .dataframe tbody tr th {\n",
       "        vertical-align: top;\n",
       "    }\n",
       "\n",
       "    .dataframe thead th {\n",
       "        text-align: right;\n",
       "    }\n",
       "</style>\n",
       "<table border=\"1\" class=\"dataframe\">\n",
       "  <thead>\n",
       "    <tr style=\"text-align: right;\">\n",
       "      <th></th>\n",
       "      <th>Demand</th>\n",
       "    </tr>\n",
       "    <tr>\n",
       "      <th>datetime</th>\n",
       "      <th></th>\n",
       "    </tr>\n",
       "  </thead>\n",
       "  <tbody>\n",
       "    <tr>\n",
       "      <th>2019-01-01 00:00:00+01:00</th>\n",
       "      <td>582949.806</td>\n",
       "    </tr>\n",
       "    <tr>\n",
       "      <th>2019-01-02 00:00:00+01:00</th>\n",
       "      <td>742199.407</td>\n",
       "    </tr>\n",
       "    <tr>\n",
       "      <th>2019-01-03 00:00:00+01:00</th>\n",
       "      <td>787764.963</td>\n",
       "    </tr>\n",
       "    <tr>\n",
       "      <th>2019-01-04 00:00:00+01:00</th>\n",
       "      <td>796010.035</td>\n",
       "    </tr>\n",
       "    <tr>\n",
       "      <th>2019-01-05 00:00:00+01:00</th>\n",
       "      <td>721029.651</td>\n",
       "    </tr>\n",
       "  </tbody>\n",
       "</table>\n",
       "</div>"
      ],
      "text/plain": [
       "                               Demand\n",
       "datetime                             \n",
       "2019-01-01 00:00:00+01:00  582949.806\n",
       "2019-01-02 00:00:00+01:00  742199.407\n",
       "2019-01-03 00:00:00+01:00  787764.963\n",
       "2019-01-04 00:00:00+01:00  796010.035\n",
       "2019-01-05 00:00:00+01:00  721029.651"
      ]
     },
     "execution_count": 13,
     "metadata": {},
     "output_type": "execute_result"
    }
   ],
   "source": [
    "category = 'demanda'\n",
    "widget = 'evolucion'\n",
    "\n",
    "API_stream_url = construct_url(category, widget)\n",
    "\n",
    "start_date = '2019-01-01T00:00'\n",
    "end_date = '2019-01-12T00:00'\n",
    "time_trunc = 'day'\n",
    "\n",
    "r = request_REData(API_stream_url, start_date, end_date, time_trunc)\n",
    "r_json = r.json()\n",
    "\n",
    "check_errs(r_json)\n",
    "\n",
    "JSON_route = [\n",
    "    ['included'],\n",
    "]\n",
    "   \n",
    "df = json_2_df(r_json, JSON_route)\n",
    "\n",
    "df.head()"
   ]
  }
 ],
 "metadata": {
  "kernelspec": {
   "display_name": "Python 3",
   "language": "python",
   "name": "python3"
  },
  "language_info": {
   "codemirror_mode": {
    "name": "ipython",
    "version": 3
   },
   "file_extension": ".py",
   "mimetype": "text/x-python",
   "name": "python",
   "nbconvert_exporter": "python",
   "pygments_lexer": "ipython3",
   "version": "3.6.8"
  }
 },
 "nbformat": 4,
 "nbformat_minor": 4
}
